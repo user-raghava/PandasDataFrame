{
 "cells": [
  {
   "cell_type": "code",
   "execution_count": 1,
   "id": "b09f3a18",
   "metadata": {},
   "outputs": [],
   "source": [
    "import json\n",
    "import yaml\n",
    "\n",
    "# Python dictionary\n",
    "data = {\n",
    "    \"name\": \"DevOps Student\",\n",
    "    \"course\": \"Python with DevOps\",\n",
    "    \"topics\": [\n",
    "        {\n",
    "            \"JSON\": \"json\",\n",
    "            \"PANDAS\": \"pandas\",\n",
    "            \"PYTHON\": \"python\"\n",
    "        },\n",
    "        \"YAML\",\n",
    "        \"Pandas\"\n",
    "    ]\n",
    "}"
   ]
  },
  {
   "cell_type": "code",
   "execution_count": 18,
   "id": "1f7a57d2",
   "metadata": {},
   "outputs": [],
   "source": [
    "# ✅ Writing to JSON file\n",
    "with open('data.json', 'w') as file:\n",
    "    json.dump(data, file, indent=4)"
   ]
  },
  {
   "cell_type": "code",
   "execution_count": 19,
   "id": "79b70588",
   "metadata": {},
   "outputs": [
    {
     "name": "stdout",
     "output_type": "stream",
     "text": [
      "{'name': 'DevOps Student', 'course': 'Python with DevOps', 'topics': [{'JSON': 'json', 'PANDAS': 'pandas', 'PYTHON': 'python'}, 'YAML', 'Pandas']}\n"
     ]
    }
   ],
   "source": [
    "# ✅ Reading from JSON file\n",
    "with open('data.json', 'r') as file:\n",
    "    loaded_data = json.load(file)\n",
    "    print(loaded_data)"
   ]
  },
  {
   "cell_type": "code",
   "execution_count": 20,
   "id": "30858aa5",
   "metadata": {},
   "outputs": [
    {
     "name": "stdout",
     "output_type": "stream",
     "text": [
      "json\n"
     ]
    }
   ],
   "source": [
    "# accessing specific data\n",
    "print(loaded_data['topics'][0]['JSON'])"
   ]
  },
  {
   "cell_type": "code",
   "execution_count": 2,
   "id": "b8a7635d",
   "metadata": {},
   "outputs": [],
   "source": [
    "# ✅ Writing to YAML file\n",
    "with open('data.yaml', 'w') as file_yaml:\n",
    "    yaml.dump(data, file_yaml, indent=4)"
   ]
  },
  {
   "cell_type": "code",
   "execution_count": null,
   "id": "64005aad",
   "metadata": {},
   "outputs": [
    {
     "name": "stdout",
     "output_type": "stream",
     "text": [
      "{'name': 'DevOps Student', 'course': 'Python with DevOps', 'topics': [{'JSON': 'json', 'PANDAS': 'pandas', 'PYTHON': 'python'}, 'YAML', 'Pandas']}\n"
     ]
    }
   ],
   "source": [
    "# ✅ Reading from YAML file\n",
    "with open('data.yaml', 'r') as file_yaml:\n",
    "    loaded_data = yaml.safe_load(file_yaml)\n",
    "    print(loaded_data)"
   ]
  }
 ],
 "metadata": {
  "kernelspec": {
   "display_name": "pandasdataframe",
   "language": "python",
   "name": "python3"
  },
  "language_info": {
   "codemirror_mode": {
    "name": "ipython",
    "version": 3
   },
   "file_extension": ".py",
   "mimetype": "text/x-python",
   "name": "python",
   "nbconvert_exporter": "python",
   "pygments_lexer": "ipython3",
   "version": "3.13.7"
  }
 },
 "nbformat": 4,
 "nbformat_minor": 5
}
