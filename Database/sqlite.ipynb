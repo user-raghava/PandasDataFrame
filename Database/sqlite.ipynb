{
 "cells": [
  {
   "cell_type": "code",
   "execution_count": 3,
   "id": "00b373f0",
   "metadata": {},
   "outputs": [],
   "source": [
    "from sqlalchemy.orm import mapped_column, Mapped, DeclarativeBase, Session\n",
    "from sqlalchemy import create_engine,String, Integer, DateTime, ForeignKey\n",
    "\n",
    "# Define URL\n",
    "DB_URL = \"sqlite:///example.db\""
   ]
  },
  {
   "cell_type": "code",
   "execution_count": 4,
   "id": "149cb2f6",
   "metadata": {},
   "outputs": [],
   "source": [
    "# create engine\n",
    "engine = create_engine(url=DB_URL, echo=True)"
   ]
  },
  {
   "cell_type": "code",
   "execution_count": 5,
   "id": "39cc5b41",
   "metadata": {},
   "outputs": [],
   "source": [
    "# Create Base\n",
    "class Base(DeclarativeBase): pass"
   ]
  },
  {
   "cell_type": "code",
   "execution_count": 6,
   "id": "48824f54",
   "metadata": {},
   "outputs": [],
   "source": [
    "# Create a Model (Table) 1\n",
    "class Student(Base):\n",
    "    __tablename__ = \"students\"\n",
    "\n",
    "    id: Mapped[int] = mapped_column(primary_key=True, autoincrement=True)\n",
    "    name: Mapped[str] = mapped_column(String(100), nullable=False)\n",
    "    mobile: Mapped[str] = mapped_column(String(10), nullable=False)\n",
    "    email: Mapped[str] = mapped_column(String(100), nullable=False)\n",
    "    description: Mapped[str] = mapped_column(String(100), nullable=True)"
   ]
  },
  {
   "cell_type": "code",
   "execution_count": 7,
   "id": "03bb4561",
   "metadata": {},
   "outputs": [],
   "source": [
    "# Create a Model (Table) 2\n",
    "class Faculty(Base):\n",
    "    __tablename__ = \"faculties\"\n",
    "\n",
    "    id: Mapped[int] = mapped_column(primary_key=True, autoincrement=True)\n",
    "    name: Mapped[str] = mapped_column(String(100), nullable=False)\n",
    "    mobile: Mapped[str] = mapped_column(String(10), nullable=False)\n",
    "    email: Mapped[str] = mapped_column(String(100), nullable=False)\n",
    "    description: Mapped[str] = mapped_column(String(100), nullable=True)"
   ]
  },
  {
   "cell_type": "code",
   "execution_count": 8,
   "id": "5dfdcb65",
   "metadata": {},
   "outputs": [
    {
     "name": "stdout",
     "output_type": "stream",
     "text": [
      "2025-10-27 16:21:25,461 INFO sqlalchemy.engine.Engine BEGIN (implicit)\n",
      "2025-10-27 16:21:25,463 INFO sqlalchemy.engine.Engine PRAGMA main.table_info(\"students\")\n",
      "2025-10-27 16:21:25,464 INFO sqlalchemy.engine.Engine [raw sql] ()\n",
      "2025-10-27 16:21:25,466 INFO sqlalchemy.engine.Engine PRAGMA temp.table_info(\"students\")\n",
      "2025-10-27 16:21:25,467 INFO sqlalchemy.engine.Engine [raw sql] ()\n",
      "2025-10-27 16:21:25,468 INFO sqlalchemy.engine.Engine PRAGMA main.table_info(\"faculties\")\n",
      "2025-10-27 16:21:25,469 INFO sqlalchemy.engine.Engine [raw sql] ()\n",
      "2025-10-27 16:21:25,471 INFO sqlalchemy.engine.Engine PRAGMA temp.table_info(\"faculties\")\n",
      "2025-10-27 16:21:25,473 INFO sqlalchemy.engine.Engine [raw sql] ()\n",
      "2025-10-27 16:21:25,475 INFO sqlalchemy.engine.Engine \n",
      "CREATE TABLE students (\n",
      "\tid INTEGER NOT NULL, \n",
      "\tname VARCHAR(100) NOT NULL, \n",
      "\tmobile VARCHAR(10) NOT NULL, \n",
      "\temail VARCHAR(100) NOT NULL, \n",
      "\tdescription VARCHAR(100), \n",
      "\tPRIMARY KEY (id)\n",
      ")\n",
      "\n",
      "\n",
      "2025-10-27 16:21:25,476 INFO sqlalchemy.engine.Engine [no key 0.00076s] ()\n",
      "2025-10-27 16:21:25,483 INFO sqlalchemy.engine.Engine \n",
      "CREATE TABLE faculties (\n",
      "\tid INTEGER NOT NULL, \n",
      "\tname VARCHAR(100) NOT NULL, \n",
      "\tmobile VARCHAR(10) NOT NULL, \n",
      "\temail VARCHAR(100) NOT NULL, \n",
      "\tdescription VARCHAR(100), \n",
      "\tPRIMARY KEY (id)\n",
      ")\n",
      "\n",
      "\n",
      "2025-10-27 16:21:25,484 INFO sqlalchemy.engine.Engine [no key 0.00152s] ()\n",
      "2025-10-27 16:21:25,490 INFO sqlalchemy.engine.Engine COMMIT\n"
     ]
    }
   ],
   "source": [
    "# create tables if they do not exist\n",
    "Base.metadata.create_all(bind=engine)"
   ]
  },
  {
   "cell_type": "code",
   "execution_count": 9,
   "id": "10448e4e",
   "metadata": {},
   "outputs": [
    {
     "name": "stdout",
     "output_type": "stream",
     "text": [
      "2025-10-27 16:21:25,665 INFO sqlalchemy.engine.Engine BEGIN (implicit)\n",
      "2025-10-27 16:21:25,670 INFO sqlalchemy.engine.Engine INSERT INTO students (name, mobile, email, description) VALUES (?, ?, ?, ?) RETURNING id\n",
      "2025-10-27 16:21:25,672 INFO sqlalchemy.engine.Engine [generated in 0.00023s (insertmanyvalues) 1/2 (ordered; batch not supported)] ('std1', '9999999', 'std1@gmail.com', None)\n",
      "2025-10-27 16:21:25,676 INFO sqlalchemy.engine.Engine INSERT INTO students (name, mobile, email, description) VALUES (?, ?, ?, ?) RETURNING id\n",
      "2025-10-27 16:21:25,677 INFO sqlalchemy.engine.Engine [insertmanyvalues 2/2 (ordered; batch not supported)] ('std2', '9999999', 'std2@gmail.com', None)\n",
      "2025-10-27 16:21:25,678 INFO sqlalchemy.engine.Engine COMMIT\n"
     ]
    }
   ],
   "source": [
    "from sqlalchemy.orm import Session\n",
    "\n",
    "# SQLAlchemy 2.0 ORM-style block for inserting data using a Session\n",
    "with Session(engine) as session:\n",
    "    student1 = Student(name='std1', mobile='9999999', email='std1@gmail.com')\n",
    "    session.add(student1)\n",
    "    student2 = Student(name='std2', mobile='9999999', email='std2@gmail.com')\n",
    "    session.add(student2)\n",
    "\n",
    "    session.commit()"
   ]
  },
  {
   "cell_type": "code",
   "execution_count": 10,
   "id": "fd8e8af5",
   "metadata": {},
   "outputs": [
    {
     "name": "stdout",
     "output_type": "stream",
     "text": [
      "2025-10-27 16:21:25,953 INFO sqlalchemy.engine.Engine BEGIN (implicit)\n",
      "2025-10-27 16:21:25,956 INFO sqlalchemy.engine.Engine SELECT students.id, students.name, students.mobile, students.email, students.description \n",
      "FROM students\n",
      "2025-10-27 16:21:25,957 INFO sqlalchemy.engine.Engine [generated in 0.00162s] ()\n",
      "std1\n",
      "std2\n",
      "2025-10-27 16:21:25,962 INFO sqlalchemy.engine.Engine SELECT students.id, students.name, students.mobile, students.email, students.description \n",
      "FROM students \n",
      "WHERE students.name = ?\n",
      "2025-10-27 16:21:25,963 INFO sqlalchemy.engine.Engine [generated in 0.00100s] ('std2',)\n",
      "std2@gmail.com\n",
      "2025-10-27 16:21:25,966 INFO sqlalchemy.engine.Engine ROLLBACK\n"
     ]
    }
   ],
   "source": [
    "# Get all students\n",
    "from sqlalchemy import select\n",
    "\n",
    "\n",
    "with Session(engine) as session:\n",
    "    # Get all\n",
    "    students = session.scalars(select(Student)).all()\n",
    "    for student in students:\n",
    "        print(student.name)\n",
    "\n",
    "    # filter\n",
    "    stmt = select(Student).where(Student.name == \"std2\")\n",
    "    student = session.scalar(stmt)\n",
    "    print(student.email)"
   ]
  }
 ],
 "metadata": {
  "kernelspec": {
   "display_name": "pandasdataframe",
   "language": "python",
   "name": "python3"
  },
  "language_info": {
   "codemirror_mode": {
    "name": "ipython",
    "version": 3
   },
   "file_extension": ".py",
   "mimetype": "text/x-python",
   "name": "python",
   "nbconvert_exporter": "python",
   "pygments_lexer": "ipython3",
   "version": "3.13.7"
  }
 },
 "nbformat": 4,
 "nbformat_minor": 5
}
